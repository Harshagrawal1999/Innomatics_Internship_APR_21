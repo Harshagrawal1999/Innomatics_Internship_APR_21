{
 "cells": [
  {
   "cell_type": "code",
   "execution_count": 4,
   "metadata": {},
   "outputs": [
    {
     "name": "stdout",
     "output_type": "stream",
     "text": [
      "1\n",
      "0\n",
      "2\n",
      "6\n",
      "[[0, 0, 0], [0, 0, 1], [0, 0, 2], [1, 0, 0], [1, 0, 1], [1, 0, 2]]\n"
     ]
    }
   ],
   "source": [
    "#Question No:-1\n",
    "\n",
    "x=int(input())\n",
    "y=int(input())\n",
    "z=int(input())\n",
    "n=int(input())\n",
    "l=[]\n",
    "for i in range(0,x+1):\n",
    "        for j in range(0,y+1):\n",
    "            for k in range(0,z+1):\n",
    "                if i+j+k!=n:\n",
    "                    l.append([i,j,k])\n",
    "                else:\n",
    "                    pass\n",
    "print(l)"
   ]
  },
  {
   "cell_type": "code",
   "execution_count": null,
   "metadata": {},
   "outputs": [],
   "source": [
    "#Question No:-2\n",
    "\n",
    "n=int(input())\n",
    "arr=list(map(int, input().split()))\n",
    "print(sorted(list(set(arr)))[-2])"
   ]
  },
  {
   "cell_type": "code",
   "execution_count": null,
   "metadata": {},
   "outputs": [],
   "source": [
    "#Question No:-3\n",
    "\n",
    "#a is marksheet\n",
    "a=[]\n",
    "#b is marks\n",
    "b=[]\n",
    "x=int(input())\n",
    "for i in range(x):\n",
    "    name=input()\n",
    "    grade=float(input())\n",
    "    a+=[[name,grade]]\n",
    "    b+=[grade]\n",
    "ope=(sorted(set(b)))[1]\n",
    "for i,j in sorted(a):\n",
    "    if j==ope:\n",
    "        print(i)"
   ]
  },
  {
   "cell_type": "code",
   "execution_count": null,
   "metadata": {},
   "outputs": [],
   "source": [
    "#Question No:-4\n",
    "\n",
    "if __name__ == '__main__':\n",
    "    n = int(input())\n",
    "    student_marks = {}\n",
    "    for _ in range(n):\n",
    "        name, *line = input().split()\n",
    "        scores = list(map(float, line))\n",
    "        student_marks[name] = scores\n",
    "    query_name = input()\n",
    "    a=list(student_marks[query_name])\n",
    "    b=sum(a)/len(a)\n",
    "    print(\"%.2f\"%b)"
   ]
  },
  {
   "cell_type": "code",
   "execution_count": null,
   "metadata": {},
   "outputs": [],
   "source": [
    "#Question No:-5\n",
    "\n",
    "if __name__ == '__main__':\n",
    "    N = int(input())\n",
    "    list=[]\n",
    "    for i in range(0,N):\n",
    "        a=input().split()\n",
    "        if a[0] == \"insert\":\n",
    "            list.insert(int(a[1]),int(a[2]))\n",
    "        elif a[0] == \"append\":\n",
    "            list.append(int(a[1]))\n",
    "        elif a[0] == \"pop\":\n",
    "            list.pop();\n",
    "        elif a[0] == \"print\":\n",
    "            print(list)\n",
    "        elif a[0] == \"remove\":\n",
    "            list.remove(int(a[1]))\n",
    "        elif a[0] == \"sort\":\n",
    "            list.sort();\n",
    "        else:\n",
    "            list.reverse();"
   ]
  },
  {
   "cell_type": "code",
   "execution_count": null,
   "metadata": {},
   "outputs": [],
   "source": [
    "#Question No:-6\n",
    "\n",
    "if __name__ == '__main__':\n",
    "    n = int(input())\n",
    "    integer_tuple = tuple(map(int, input().split()))\n",
    "    print(hash(integer_tuple))"
   ]
  },
  {
   "cell_type": "code",
   "execution_count": null,
   "metadata": {},
   "outputs": [],
   "source": [
    "#Question No:-7\n",
    "\n",
    "def average(array):\n",
    "    a=list(set(array))\n",
    "    b=sum(a)/len(a)\n",
    "    return b"
   ]
  },
  {
   "cell_type": "code",
   "execution_count": null,
   "metadata": {},
   "outputs": [],
   "source": [
    "#Question No:-8\n",
    "\n",
    "input()\n",
    "happiness=0\n",
    "l=list(map(int,input().split()))\n",
    "A=set(map(int,input().split()))\n",
    "B=set(map(int,input().split()))\n",
    "for i in l:\n",
    "    if i in A:\n",
    "        happiness+=1\n",
    "    elif i in B:\n",
    "        happiness-=1\n",
    "print(happiness)"
   ]
  },
  {
   "cell_type": "code",
   "execution_count": null,
   "metadata": {},
   "outputs": [],
   "source": [
    "#Question No:-9\n",
    "\n",
    "x=int(input())\n",
    "M=set([int(i) for i in input().split(\" \")])\n",
    "y=int(input())\n",
    "N=set([int(i) for i in input().split(\" \")])\n",
    "a=M.union(N)\n",
    "b=M.intersection(N)\n",
    "c=a-b\n",
    "l=[i for i in c]\n",
    "l.sort()\n",
    "for i in l:\n",
    "    print(i)"
   ]
  },
  {
   "cell_type": "code",
   "execution_count": null,
   "metadata": {},
   "outputs": [],
   "source": [
    "#Question No:-10\n",
    "\n",
    "n=int(input())\n",
    "x=[input() for i in range(n)]\n",
    "s=set(x)\n",
    "print(len(s))"
   ]
  },
  {
   "cell_type": "code",
   "execution_count": null,
   "metadata": {},
   "outputs": [],
   "source": [
    "#Question No:-11\n",
    "\n",
    "n = int(input())\n",
    "s = set(map(int,input().split()))\n",
    "m=int(input())\n",
    "for i in range(m):\n",
    "    l=input().split()\n",
    "    if l[0]==\"remove\":\n",
    "        s.remove(int(l[1]))\n",
    "    elif l[0]==\"discard\":\n",
    "        s.discard(int(l[1]))\n",
    "    else:\n",
    "        s.pop()\n",
    "print(sum(s))"
   ]
  },
  {
   "cell_type": "code",
   "execution_count": null,
   "metadata": {},
   "outputs": [],
   "source": [
    "#Question No:-12\n",
    "\n",
    "n1=int(input())\n",
    "a=set(input().split())\n",
    "n2=int(input())\n",
    "b=set(input().split())\n",
    "c=a.intersection(b)\n",
    "print(len(c))"
   ]
  },
  {
   "cell_type": "code",
   "execution_count": null,
   "metadata": {},
   "outputs": [],
   "source": [
    "#Question No:-13\n",
    "\n",
    "n1=int(input())\n",
    "a=set(input().split())\n",
    "n2=int(input())\n",
    "b=set(input().split())\n",
    "c=a-b\n",
    "print(len(c))"
   ]
  },
  {
   "cell_type": "code",
   "execution_count": null,
   "metadata": {},
   "outputs": [],
   "source": [
    "#Question No:-14\n",
    "\n",
    "n1=int(input())\n",
    "a=set(input().split())\n",
    "n2=int(input())\n",
    "b=set(input().split())\n",
    "c=a.union(b)\n",
    "print(len(c))"
   ]
  },
  {
   "cell_type": "code",
   "execution_count": 1,
   "metadata": {},
   "outputs": [],
   "source": [
    "#Question No:-15\n",
    "\n",
    "n1=int(input())\n",
    "a=set(input().split())\n",
    "n2=int(input())\n",
    "b=set(input().split())\n",
    "c=a.union(b)-a.intersection(b)\n",
    "print(len(c))"
   ]
  },
  {
   "cell_type": "code",
   "execution_count": null,
   "metadata": {},
   "outputs": [],
   "source": [
    "#Question No:-16\n",
    "\n",
    "n1=int(input())\n",
    "s=set(map(int, input().split()))\n",
    "n2=int(input())\n",
    "for i in range(n2):\n",
    "    si=input().split()\n",
    "    if si[0]=='intersection_update':\n",
    "        li=set(map(int, input().split()))\n",
    "        s.intersection_update(li)\n",
    "    elif si[0]=='update':\n",
    "        li=set(map(int, input().split()))\n",
    "        s.update(li)\n",
    "    elif si[0]=='symmetric_difference_update':\n",
    "        li=set(map(int, input().split()))\n",
    "        s.symmetric_difference_update(li)\n",
    "    elif si[0]=='difference_update':\n",
    "        li=set(map(int, input().split()))\n",
    "        s.difference_update(li)\n",
    "    else :\n",
    "        assert False\n",
    "print(sum(s))"
   ]
  },
  {
   "cell_type": "code",
   "execution_count": null,
   "metadata": {},
   "outputs": [],
   "source": [
    "#Question No:-17\n",
    "\n",
    "k=int(input())\n",
    "#r is for room\n",
    "r=list(map(int,input().split()))\n",
    "a=set()\n",
    "b=set()\n",
    "for r in r:\n",
    "    if r not in a:\n",
    "        a.add(r)\n",
    "        b.add(r)\n",
    "    else:\n",
    "        b.discard(r)\n",
    "b=list(b)\n",
    "print(b[0])"
   ]
  },
  {
   "cell_type": "code",
   "execution_count": null,
   "metadata": {},
   "outputs": [],
   "source": [
    "#Question No:-18\n",
    "\n",
    "n=int(input())\n",
    "for i in range(n):\n",
    "    a=input()\n",
    "    a1=set(input().split())\n",
    "    b=int(input())\n",
    "    b1=set(input().split())\n",
    "    print(a1.issubset(b1))"
   ]
  },
  {
   "cell_type": "code",
   "execution_count": null,
   "metadata": {},
   "outputs": [],
   "source": [
    "#Question No:-19\n",
    "\n",
    "s=set(input().split())\n",
    "n=int(input())\n",
    "output=True\n",
    "for i in range(n):\n",
    "    s1=set(input().split())\n",
    "    if not s1.issubset(s):\n",
    "        output=False\n",
    "    if len(s1)>=len(s):\n",
    "        output=False\n",
    "print(output)"
   ]
  },
  {
   "cell_type": "code",
   "execution_count": null,
   "metadata": {},
   "outputs": [],
   "source": []
  }
 ],
 "metadata": {
  "kernelspec": {
   "display_name": "Python 3",
   "language": "python",
   "name": "python3"
  },
  "language_info": {
   "codemirror_mode": {
    "name": "ipython",
    "version": 3
   },
   "file_extension": ".py",
   "mimetype": "text/x-python",
   "name": "python",
   "nbconvert_exporter": "python",
   "pygments_lexer": "ipython3",
   "version": "3.8.5"
  }
 },
 "nbformat": 4,
 "nbformat_minor": 4
}
