{
 "cells": [
  {
   "cell_type": "code",
   "execution_count": 5,
   "metadata": {},
   "outputs": [],
   "source": [
    "import matplotlib.pyplot as plt\n",
    "import numpy as np\n",
    "from scipy.stats import norm"
   ]
  },
  {
   "cell_type": "code",
   "execution_count": 6,
   "metadata": {},
   "outputs": [],
   "source": [
    "def z_score(sample_size,sample_mean,pop_mean,pop_std):\n",
    "    numerator=sample_mean-pop_mean\n",
    "    denomenator=pop_std/sample_size**0.5\n",
    "    return numerator/denomenator"
   ]
  },
  {
   "cell_type": "markdown",
   "metadata": {},
   "source": [
    "Ques No:-1: Pista House selling Hyderabadi Chicken Dum biryani claims that each parcel packet has 500 grams of biryani (also mentioned on the label of packet). You are sceptic of their claims and believe that on average each packet does not contain 500 grams of biryani. How do you prove your claim? ~(Given that the population std is 50)~.\n",
    "\n",
    "SOLUTION:-<br>\n",
    "\n",
    "Step 1:-Formation of null hypotheis and alternate hypothesis<br>\n",
    "Null Hypothesis<br> $H_0: \\mu=$500<br>\n",
    "Alternate Hypotheis<br>$H_1: \\mu \\neq$500\n",
    "\n",
    "Step 2:-Collect the sample size($n$) and compute the sample mean $\\bar x$<br>\n",
    "\n",
    "Step 3:-There might be two cases<br>1.Population Standard Deviation($\\sigma$) is given inthis case z-test will be used<br>2.Population Standard Deviation($\\sigma$) is not given in this sample population standard deviation($s$) will be used and t-distribution will be used.<br>\n",
    "\n",
    "Step 4:-Computation of Test Statistics:-<br>z-test  \n",
    "**$$z=\\frac{\\mu-x}{\\sigma / \\sqrt n}$$**<br>\n",
    "t-test **$$t_{\\alpha/2}=\\frac{\\mu-x}{s / \\sqrt n}$$**<br> (where $\\alpha$=$n-1$=degrees of freedom where $\\alpha/2$ it is two tailed equal it will have equal area on the normal curve on the left side of the mean and on the right side of mean)<br>\n",
    "\n",
    "Step 5:-Decide significance level $\\alpha$. If $\\alpha=$significance level accept else $\\alpha \\neq$ significance level reject null hypothesis.\n",
    "$$OR$$<br>Decide signifance level z-value. If $z=$signifacance level accept else $z \\neq$ signifacance level fail to reject null hypothesis.<br>\n",
    "\n",
    "If null hypotheis is accepted then Pista House is selling 500grams of amount in each packet or if null hypotheis is rejected or it is failed to accept the null hypothesis then the Pista House is not selling 500grams of amount in each packet.\n",
    "\n",
    "l1=[490,220,470,500,495,496,496,498,508,480,485,478]"
   ]
  },
  {
   "cell_type": "markdown",
   "metadata": {},
   "source": [
    "### Z-Test"
   ]
  },
  {
   "cell_type": "code",
   "execution_count": null,
   "metadata": {},
   "outputs": [],
   "source": []
  },
  {
   "cell_type": "code",
   "execution_count": 7,
   "metadata": {},
   "outputs": [
    {
     "name": "stdout",
     "output_type": "stream",
     "text": [
      "The sample mean is 465.3\n"
     ]
    }
   ],
   "source": [
    "l1=[490,220,470,500,495,496,496,498,508,480,485,478]\n",
    "print(\"The sample mean is\",sum(l1)/len(l1))"
   ]
  },
  {
   "cell_type": "code",
   "execution_count": 8,
   "metadata": {},
   "outputs": [
    {
     "name": "stdout",
     "output_type": "stream",
     "text": [
      "1.959963984540054\n"
     ]
    }
   ],
   "source": [
    "confidence_level = 0.95\n",
    "alpha=1-confidence_level\n",
    "z_critical=norm.ppf(1-alpha/2)\n",
    "print(z_critical)"
   ]
  },
  {
   "cell_type": "code",
   "execution_count": 9,
   "metadata": {},
   "outputs": [],
   "source": [
    "sample_size=10\n",
    "sample_mean=465.3\n",
    "pop_mean=500\n",
    "pop_std=50"
   ]
  },
  {
   "cell_type": "code",
   "execution_count": 10,
   "metadata": {},
   "outputs": [
    {
     "name": "stdout",
     "output_type": "stream",
     "text": [
      "-2.1946206961568544\n"
     ]
    }
   ],
   "source": [
    "z=z_score(sample_size,sample_mean,pop_mean,pop_std)\n",
    "print(z)"
   ]
  },
  {
   "cell_type": "code",
   "execution_count": 11,
   "metadata": {},
   "outputs": [
    {
     "data": {
      "text/plain": [
       "<matplotlib.collections.PolyCollection at 0x14cc4d8>"
      ]
     },
     "execution_count": 11,
     "metadata": {},
     "output_type": "execute_result"
    },
    {
     "data": {
      "image/png": "[encoded data removed]",
      "text/plain": [
       "<Figure size 432x288 with 1 Axes>"
      ]
     },
     "metadata": {
      "needs_background": "light"
     },
     "output_type": "display_data"
    }
   ],
   "source": [
    "x_min=400\n",
    "x_max=600\n",
    "mean=pop_mean\n",
    "std=pop_std/sample_size**0.5\n",
    "\n",
    "x=np.linspace(x_min,x_max,100)\n",
    "y=norm.pdf(x,mean,std)\n",
    "plt.xlim(x_min,x_max)\n",
    "plt.plot(x,y)\n",
    "\n",
    "z_critical_left=pop_mean+(-z_critical*std)\n",
    "z_critical_right=pop_mean+(z_critical*std)\n",
    "\n",
    "x1=np.linspace(x_min,z_critical_left,100)\n",
    "y1=norm.pdf(x1,mean,std)\n",
    "plt.fill_between(x1,y1,color='orange')\n",
    "\n",
    "x2=np.linspace(z_critical_right,x_max,100)\n",
    "y2=norm.pdf(x2,mean,std)\n",
    "plt.fill_between(x2,y2,color='orange')"
   ]
  },
  {
   "cell_type": "code",
   "execution_count": 12,
   "metadata": {},
   "outputs": [
    {
     "name": "stdout",
     "output_type": "stream",
     "text": [
      "Reject Null Hypothesis\n"
     ]
    }
   ],
   "source": [
    "if(np.abs(z) > z_critical):\n",
    "    print(\"Reject Null Hypothesis\")\n",
    "else:\n",
    "    print(\"Fail to reject Null Hypothesis\")"
   ]
  },
  {
   "cell_type": "code",
   "execution_count": 13,
   "metadata": {},
   "outputs": [
    {
     "name": "stdout",
     "output_type": "stream",
     "text": [
      "p_value =  0.028190817687629988\n",
      "Reject Null Hypothesis\n"
     ]
    }
   ],
   "source": [
    "p_value=2*(1.0-norm.cdf(np.abs(z)))\n",
    "print(\"p_value = \",p_value)\n",
    "if(p_value<alpha):\n",
    "    print(\"Reject Null Hypothesis\")\n",
    "else:\n",
    "    print(\"Fail to reject Null Hypothesis\")"
   ]
  },
  {
   "cell_type": "markdown",
   "metadata": {},
   "source": [
    "### T-test and p-value"
   ]
  },
  {
   "cell_type": "code",
   "execution_count": 45,
   "metadata": {},
   "outputs": [],
   "source": [
    "sample_size=5\n",
    "l1_sample=np.random.choice(l1,sample_size)"
   ]
  },
  {
   "cell_type": "code",
   "execution_count": 48,
   "metadata": {},
   "outputs": [
    {
     "data": {
      "text/plain": [
       "array([490, 498, 496, 220, 508])"
      ]
     },
     "execution_count": 48,
     "metadata": {},
     "output_type": "execute_result"
    }
   ],
   "source": [
    "l1_sample"
   ]
  },
  {
   "cell_type": "code",
   "execution_count": null,
   "metadata": {},
   "outputs": [],
   "source": []
  },
  {
   "cell_type": "code",
   "execution_count": 49,
   "metadata": {},
   "outputs": [],
   "source": [
    "from scipy.stats import ttest_1samp"
   ]
  },
  {
   "cell_type": "code",
   "execution_count": 61,
   "metadata": {},
   "outputs": [],
   "source": [
    "ttest,p_value=ttest_1samp(l1_sample,10)"
   ]
  },
  {
   "cell_type": "code",
   "execution_count": 62,
   "metadata": {},
   "outputs": [
    {
     "name": "stdout",
     "output_type": "stream",
     "text": [
      "0.001481582806791025\n"
     ]
    }
   ],
   "source": [
    "print(p_value)"
   ]
  },
  {
   "cell_type": "code",
   "execution_count": 63,
   "metadata": {},
   "outputs": [
    {
     "name": "stdout",
     "output_type": "stream",
     "text": [
      " we are rejecting null hypothesis\n"
     ]
    }
   ],
   "source": [
    "if p_value != 0.05:\n",
    "    print(\" we are rejecting null hypothesis\")\n",
    "else:\n",
    "    print(\"we are accepting null hypothesis\")\n"
   ]
  },
  {
   "cell_type": "markdown",
   "metadata": {},
   "source": [
    "Ques No:-2 You have developed a new Natural Language Processing Algorithms and done a user study. You claim that the average rating given by the users is greater than 4 on a scale of 1 to 5. How do you prove this to your client? ~(Given that the population std is 0.5)~\n",
    "\n",
    "\n",
    "SOLUTION:-<br>\n",
    "\n",
    "Step 1:-Formation of null hypotheis and alternate hypothesis<br>\n",
    "Null Hypothesis<br> $H_0: \\mu=$4<br>\n",
    "Alternate Hypotheis<br>$H_1: \\mu \\leq$4\n",
    "\n",
    "Step 2:-Collect the sample size($n$) and compute the sample mean $\\bar x$<br>\n",
    "\n",
    "Step 3:-There might be two cases<br>1.Population Standard Deviation($\\sigma$) is given inthis case z-test will be used<br>2.Population Standard Deviation($\\sigma$) is not given in this sample population standard deviation($s$) will be used and t-distribution will be used.<br>\n",
    "\n",
    "Step 4:-Computation of Test Statistics:-<br>z-test  \n",
    "**$$z=\\frac{\\mu-x}{\\sigma / \\sqrt n}$$**<br>\n",
    "t-test **$$t_{\\alpha/2}=\\frac{\\mu-x}{s / \\sqrt n}$$**<br> (where $\\alpha$=$n-1$=degrees of freedom where $\\alpha/2$ it is two tailed equal it will have area on the normal curve on the right side of mean)<br>\n",
    "\n",
    "Step 5:-Decide significance level $\\alpha$. If $\\alpha=$significance level accept else $\\alpha \\neq$ significance level reject null hypothesis.\n",
    "$$OR$$<br>Decide signifance level z-value. If $z=$signifacance level accept else $z \\neq$ signifacance level fail to reject null hypothesis.<br>\n",
    "\n",
    "l2=[4,3,5,3,5,5,4,2,4,5,5,4,4,5,4,5]"
   ]
  },
  {
   "cell_type": "markdown",
   "metadata": {},
   "source": [
    "### z-Test"
   ]
  },
  {
   "cell_type": "code",
   "execution_count": 53,
   "metadata": {},
   "outputs": [
    {
     "name": "stdout",
     "output_type": "stream",
     "text": [
      "1.6448536269514722\n"
     ]
    }
   ],
   "source": [
    "confidence_level=0.95\n",
    "alpha=1-confidence_level\n",
    "z_critical=norm.ppf(1-alpha)\n",
    "print(z_critical)"
   ]
  },
  {
   "cell_type": "code",
   "execution_count": 54,
   "metadata": {},
   "outputs": [],
   "source": [
    "sample_size=20\n",
    "sample_mean=4.25\n",
    "pop_mean=4\n",
    "pop_std=0.5"
   ]
  },
  {
   "cell_type": "code",
   "execution_count": 64,
   "metadata": {},
   "outputs": [
    {
     "name": "stdout",
     "output_type": "stream",
     "text": [
      "The sample mean is 4.1875\n"
     ]
    }
   ],
   "source": [
    "l2=[4,3,5,3,5,5,4,2,4,5,5,4,4,5,4,5]\n",
    "print(\"The sample mean is\",sum(l)/len(l))"
   ]
  },
  {
   "cell_type": "code",
   "execution_count": 65,
   "metadata": {},
   "outputs": [
    {
     "name": "stdout",
     "output_type": "stream",
     "text": [
      "1.118033988749895\n"
     ]
    }
   ],
   "source": [
    "z=z_score(sample_size,sample_mean,pop_mean,pop_std)\n",
    "print(z)"
   ]
  },
  {
   "cell_type": "code",
   "execution_count": 66,
   "metadata": {},
   "outputs": [
    {
     "data": {
      "text/plain": [
       "Text(4.25, 0.1, 'x_bar')"
      ]
     },
     "execution_count": 66,
     "metadata": {},
     "output_type": "execute_result"
    },
    {
     "data": {
      "image/png": "[encoded data removed]",
      "text/plain": [
       "<Figure size 432x288 with 1 Axes>"
      ]
     },
     "metadata": {
      "needs_background": "light"
     },
     "output_type": "display_data"
    }
   ],
   "source": [
    "x_min=3.5\n",
    "x_max=4.5\n",
    "\n",
    "mean=pop_mean\n",
    "std=pop_std/(sample_size**0.5)\n",
    "\n",
    "x=np.linspace(x_min,x_max,100)\n",
    "y=norm.pdf(x,mean,std)\n",
    "plt.xlim(x_min,x_max)\n",
    "plt.plot(x,y)\n",
    "\n",
    "z_critical_right=pop_mean+(z_critical*std)\n",
    "\n",
    "x1=np.linspace(z_critical_right,x_max,100)\n",
    "y1=norm.pdf(x1,mean,std)\n",
    "plt.fill_between(x1,y1,color='orange')\n",
    "\n",
    "plt.scatter(sample_mean,0)\n",
    "plt.annotate(\"x_bar\",(sample_mean,0.1))"
   ]
  },
  {
   "cell_type": "code",
   "execution_count": 67,
   "metadata": {},
   "outputs": [
    {
     "name": "stdout",
     "output_type": "stream",
     "text": [
      "Fail to reject Null Hypothesis\n"
     ]
    }
   ],
   "source": [
    "if(z>z_critical):\n",
    "    print(\"Reject Null Hypothesis\")\n",
    "else:\n",
    "    print(\"Fail to reject Null Hypothesis\")"
   ]
  },
  {
   "cell_type": "code",
   "execution_count": 68,
   "metadata": {},
   "outputs": [
    {
     "name": "stdout",
     "output_type": "stream",
     "text": [
      "p_value =  0.13177623864148635\n",
      "Fail to reject Null Hypothesis\n"
     ]
    }
   ],
   "source": [
    "p_value = 1.0 - norm.cdf(np.abs(z))\n",
    "print(\"p_value = \",p_value)\n",
    "if(p_value<alpha):\n",
    "    print(\"Reject Null Hypothesis\")\n",
    "else:\n",
    "    print(\"Fail to reject Null Hypothesis\")"
   ]
  },
  {
   "cell_type": "markdown",
   "metadata": {},
   "source": [
    "### t-Test & p-Value"
   ]
  },
  {
   "cell_type": "code",
   "execution_count": null,
   "metadata": {},
   "outputs": [],
   "source": []
  },
  {
   "cell_type": "code",
   "execution_count": null,
   "metadata": {},
   "outputs": [],
   "source": []
  },
  {
   "cell_type": "code",
   "execution_count": 60,
   "metadata": {},
   "outputs": [],
   "source": [
    "sample_size=5\n",
    "l2_sample=np.random.choice(l2,sample_size)"
   ]
  },
  {
   "cell_type": "code",
   "execution_count": 69,
   "metadata": {},
   "outputs": [
    {
     "data": {
      "text/plain": [
       "array([13.23, 15.76, 13.88, 14.13, 14.13])"
      ]
     },
     "execution_count": 69,
     "metadata": {},
     "output_type": "execute_result"
    }
   ],
   "source": [
    "l2_sample"
   ]
  },
  {
   "cell_type": "code",
   "execution_count": 70,
   "metadata": {},
   "outputs": [],
   "source": [
    "from scipy.stats import ttest_1samp"
   ]
  },
  {
   "cell_type": "code",
   "execution_count": 74,
   "metadata": {},
   "outputs": [
    {
     "name": "stdout",
     "output_type": "stream",
     "text": [
      "0.00015819583125406574\n"
     ]
    }
   ],
   "source": [
    "ttest,p_value=ttest_1samp(l2_sample,20)\n",
    "print(p_value)"
   ]
  },
  {
   "cell_type": "code",
   "execution_count": null,
   "metadata": {},
   "outputs": [],
   "source": []
  },
  {
   "cell_type": "code",
   "execution_count": 43,
   "metadata": {},
   "outputs": [],
   "source": []
  },
  {
   "cell_type": "code",
   "execution_count": 75,
   "metadata": {},
   "outputs": [
    {
     "name": "stdout",
     "output_type": "stream",
     "text": [
      " we are rejecting null hypothesis\n"
     ]
    }
   ],
   "source": [
    "if p_value < 0.05:    # alpha value is 0.05 or 5%\n",
    "    print(\" we are rejecting null hypothesis\")\n",
    "else:\n",
    "    print(\"we are accepting null hypothesis\")\n"
   ]
  },
  {
   "cell_type": "markdown",
   "metadata": {},
   "source": [
    "Ques No:-3 TATA has developed a better fuel management system for the SUV segment. They claim that with this system, on average the SUV's mileage is at least 15 km/litre? ~(Given that the population std is 1)~\n",
    "\n",
    "SOLUTION:-\n",
    "\n",
    "Step 1:-Formation of null hypotheis and alternate hypothesis<br>\n",
    "Null Hypothesis<br> $H_0: \\mu=$15<br>\n",
    "Alternate Hypotheis<br>$H_1: \\mu \\leq$15\n",
    "\n",
    "Step 2:-Collect the sample size($n$) and compute the sample mean $\\bar x$<br>\n",
    "\n",
    "Step 3:-There might be two cases<br>1.Population Standard Deviation($\\sigma$) is given inthis case z-test will be used<br>2.Population Standard Deviation($\\sigma$) is not given in this sample population standard deviation($s$) will be used and t-distribution will be used.<br>\n",
    "\n",
    "Step 4:-Computation of Test Statistics:-<br>z-test  \n",
    "**$$z=\\frac{\\mu-x}{\\sigma / \\sqrt n}$$**<br>\n",
    "t-test **$$t_{\\alpha}=\\frac{\\mu-x}{s / \\sqrt n}$$**<br> (where $\\alpha$=$n-1$=degrees of freedom where $\\alpha$ it is one tailed equal it will have area on the normal curve on the right side of mean)<br>\n",
    "\n",
    "Step 5:-Decide significance level $\\alpha$. If $\\alpha=$significance level accept else $\\alpha \\neq$ significance level reject null hypothesis.\n",
    "$$OR$$<br>Decide signifance level z-value. If $z=$signifacance level accept else $z \\neq$ signifacance level fail to reject null hypothesis.<br>\n",
    "\n",
    "l3=[14.08,14.13,15.65,13.78,16.26,14.97,15.36,15.81,14.53,16.79,15.78,16.98, 13.23,15.43,15.46,13.88,14.31,14.41,15.76,15.38]"
   ]
  },
  {
   "cell_type": "code",
   "execution_count": 29,
   "metadata": {},
   "outputs": [
    {
     "name": "stdout",
     "output_type": "stream",
     "text": [
      "The sample mean is 15.098999999999998\n"
     ]
    }
   ],
   "source": [
    "l3=[14.08,14.13,15.65,13.78,16.26,14.97,15.36,15.81,14.53,16.79,15.78,16.98, 13.23,15.43,15.46,13.88,14.31,14.41,15.76,15.38]\n",
    "print(\"The sample mean is\",sum(l3)/len(l3))"
   ]
  },
  {
   "cell_type": "code",
   "execution_count": 30,
   "metadata": {},
   "outputs": [
    {
     "name": "stdout",
     "output_type": "stream",
     "text": [
      "1.6448536269514722\n"
     ]
    }
   ],
   "source": [
    "confidence_level=0.95\n",
    "alpha=1-confidence_level\n",
    "z_critical=norm.ppf(1-alpha)\n",
    "print(z_critical)"
   ]
  },
  {
   "cell_type": "code",
   "execution_count": 31,
   "metadata": {},
   "outputs": [],
   "source": [
    "sample_size=20\n",
    "sample_mean=15.1\n",
    "pop_mean=15\n",
    "pop_std=1"
   ]
  },
  {
   "cell_type": "code",
   "execution_count": 32,
   "metadata": {},
   "outputs": [
    {
     "name": "stdout",
     "output_type": "stream",
     "text": [
      "0.4472135954999564\n"
     ]
    }
   ],
   "source": [
    "z=z_score(sample_size,sample_mean,pop_mean,pop_std)\n",
    "print(z)"
   ]
  },
  {
   "cell_type": "code",
   "execution_count": 33,
   "metadata": {},
   "outputs": [
    {
     "data": {
      "text/plain": [
       "Text(15.1, 0.1, 'x_bar')"
      ]
     },
     "execution_count": 33,
     "metadata": {},
     "output_type": "execute_result"
    },
    {
     "data": {
      "image/png": "[encoded data removed]",
      "text/plain": [
       "<Figure size 432x288 with 1 Axes>"
      ]
     },
     "metadata": {
      "needs_background": "light"
     },
     "output_type": "display_data"
    }
   ],
   "source": [
    "x_min=13\n",
    "x_max=17\n",
    "\n",
    "mean=pop_mean\n",
    "std=pop_std/(sample_size**0.5)\n",
    "\n",
    "x=np.linspace(x_min,x_max,100)\n",
    "y=norm.pdf(x,mean,std)\n",
    "\n",
    "plt.xlim(x_min,x_max)\n",
    "\n",
    "plt.plot(x,y)\n",
    "\n",
    "z_critical_right=pop_mean+(z_critical*std)\n",
    "\n",
    "x1=np.linspace(z_critical_right,x_max,100)\n",
    "y1=norm.pdf(x1,mean,std)\n",
    "plt.fill_between(x1,y1,color='orange')\n",
    "\n",
    "plt.scatter(sample_mean,0)\n",
    "plt.annotate(\"x_bar\",(sample_mean,0.1))"
   ]
  },
  {
   "cell_type": "code",
   "execution_count": 34,
   "metadata": {},
   "outputs": [
    {
     "name": "stdout",
     "output_type": "stream",
     "text": [
      "Fail to reject Null Hypothesis\n"
     ]
    }
   ],
   "source": [
    "if(z>z_critical):\n",
    "    print(\"Reject Null Hypothesis\")\n",
    "else:\n",
    "    print(\"Fail to reject Null Hypothesis\")"
   ]
  },
  {
   "cell_type": "code",
   "execution_count": 35,
   "metadata": {},
   "outputs": [
    {
     "name": "stdout",
     "output_type": "stream",
     "text": [
      "p_value =  0.32736042300928914\n",
      "Fail to reject Null Hypothesis\n"
     ]
    }
   ],
   "source": [
    "p_value=1.0-norm.cdf(np.abs(z))\n",
    "print(\"p_value = \",p_value)\n",
    "if(p_value<alpha):\n",
    "    print(\"Reject Null Hypothesis\")\n",
    "else:\n",
    "    print(\"Fail to reject Null Hypothesis\")"
   ]
  },
  {
   "cell_type": "markdown",
   "metadata": {},
   "source": [
    "### t-Test & p-Value"
   ]
  },
  {
   "cell_type": "code",
   "execution_count": 76,
   "metadata": {},
   "outputs": [],
   "source": [
    "sample_size=5\n",
    "l3_sample=np.random.choice(l3,sample_size)"
   ]
  },
  {
   "cell_type": "code",
   "execution_count": 77,
   "metadata": {},
   "outputs": [
    {
     "data": {
      "text/plain": [
       "array([15.65, 14.08, 15.38, 15.38, 15.78])"
      ]
     },
     "execution_count": 77,
     "metadata": {},
     "output_type": "execute_result"
    }
   ],
   "source": [
    "l3_sample"
   ]
  },
  {
   "cell_type": "code",
   "execution_count": null,
   "metadata": {},
   "outputs": [],
   "source": []
  },
  {
   "cell_type": "code",
   "execution_count": 89,
   "metadata": {},
   "outputs": [],
   "source": [
    "from scipy.stats import ttest_1samp"
   ]
  },
  {
   "cell_type": "code",
   "execution_count": 90,
   "metadata": {},
   "outputs": [],
   "source": [
    "ttest,p_value=ttest_1samp(l3_sample,20)"
   ]
  },
  {
   "cell_type": "code",
   "execution_count": 91,
   "metadata": {},
   "outputs": [
    {
     "name": "stdout",
     "output_type": "stream",
     "text": [
      "9.779568560655228e-05\n"
     ]
    }
   ],
   "source": [
    "print(p_value)"
   ]
  },
  {
   "cell_type": "code",
   "execution_count": 92,
   "metadata": {},
   "outputs": [
    {
     "name": "stdout",
     "output_type": "stream",
     "text": [
      " we are rejecting null hypothesis\n"
     ]
    }
   ],
   "source": [
    "if p_value < 0.05:\n",
    "    print(\" we are rejecting null hypothesis\")\n",
    "else:\n",
    "    print(\"we are accepting null hypothesis\")"
   ]
  },
  {
   "cell_type": "markdown",
   "metadata": {},
   "source": []
  },
  {
   "cell_type": "markdown",
   "metadata": {},
   "source": [
    "Ques No:-4 You have developed a new Machine Learning Application and claim that on average it takes less than 100 ms to predict for any future datapoint. How do you convince your client about this claim? (Based on past data you know that the std is 10 ms)\n",
    "\n",
    "SOLUTION:-\n",
    "\n",
    "Step 1:-Formation of null hypotheis and alternate hypothesis<br>\n",
    "Null Hypothesis<br> $H_0: \\mu=$15<br>\n",
    "Alternate Hypotheis<br>$H_1: \\mu \\req$15\n",
    "\n",
    "Step 2:-Collect the sample size($n$) and compute the sample mean $\\bar x$<br>\n",
    "\n",
    "Step 3:-There might be two cases<br>1.Population Standard Deviation($\\sigma$) is given inthis case z-test will be used<br>2.Population Standard Deviation($\\sigma$) is not given in this sample population standard deviation($s$) will be used and t-distribution will be used.<br>\n",
    "\n",
    "Step 4:-Computation of Test Statistics:-<br>z-test  \n",
    "**$$z=\\frac{\\mu-x}{\\sigma / \\sqrt n}$$**<br>\n",
    "t-test **$$t_{\\alpha}=\\frac{\\mu-x}{s / \\sqrt n}$$**<br> (where $\\alpha$=$n-1$=degrees of freedom where $\\alpha$ it is one tailed equal it will have area on the normal curve on the left side of the mean)<br>\n",
    "\n",
    "Step 5:-Decide significance level $\\alpha$. If $\\alpha=$significance level accept else $\\alpha \\neq$ significance level reject null hypothesis.\n",
    "$$OR$$<br>Decide signifance level z-value. If $z=$signifacance level accept else $z \\neq$ signifacance level fail to reject null hypothesis.<br>"
   ]
  },
  {
   "cell_type": "code",
   "execution_count": 29,
   "metadata": {},
   "outputs": [
    {
     "name": "stdout",
     "output_type": "stream",
     "text": [
      "2.3263478740408408\n"
     ]
    }
   ],
   "source": [
    "alpha=1-0.99\n",
    "z_critical=norm.ppf(1-alpha)\n",
    "print(z_critical)"
   ]
  },
  {
   "cell_type": "code",
   "execution_count": 30,
   "metadata": {},
   "outputs": [],
   "source": [
    "sample_size=100\n",
    "sample_mean=97.5\n",
    "pop_mean=100\n",
    "pop_std=10"
   ]
  },
  {
   "cell_type": "code",
   "execution_count": 31,
   "metadata": {},
   "outputs": [
    {
     "name": "stdout",
     "output_type": "stream",
     "text": [
      "-2.5\n"
     ]
    }
   ],
   "source": [
    "z=z_score(sample_size,sample_mean,pop_mean,pop_std)\n",
    "print(z)"
   ]
  },
  {
   "cell_type": "code",
   "execution_count": 32,
   "metadata": {},
   "outputs": [
    {
     "data": {
      "text/plain": [
       "Text(97.5, 0.02, 'x_bar')"
      ]
     },
     "execution_count": 32,
     "metadata": {},
     "output_type": "execute_result"
    },
    {
     "data": {
      "image/png": "[encoded data removed]",
      "text/plain": [
       "<Figure size 432x288 with 1 Axes>"
      ]
     },
     "metadata": {
      "needs_background": "light"
     },
     "output_type": "display_data"
    }
   ],
   "source": [
    "x_min=95\n",
    "x_max=105\n",
    "\n",
    "mean=pop_mean\n",
    "std=pop_std/(sample_size**0.5)\n",
    "\n",
    "x=np.linspace(x_min,x_max,100)\n",
    "y=norm.pdf(x,mean,std)\n",
    "\n",
    "plt.xlim(x_min, x_max)\n",
    "\n",
    "plt.plot(x,y)\n",
    "\n",
    "z_critical_left=pop_mean+(-z_critical*std)\n",
    "\n",
    "x1=np.linspace(x_min,z_critical_left,100)\n",
    "y1=norm.pdf(x1,mean,std)\n",
    "plt.fill_between(x1,y1,color='orange')\n",
    "\n",
    "plt.scatter(sample_mean,0)\n",
    "plt.annotate(\"x_bar\",(sample_mean, 0.02))"
   ]
  },
  {
   "cell_type": "code",
   "execution_count": 33,
   "metadata": {},
   "outputs": [
    {
     "name": "stdout",
     "output_type": "stream",
     "text": [
      "Reject Null Hypothesis\n"
     ]
    }
   ],
   "source": [
    "if(z<-z_critical):\n",
    "    print(\"Reject Null Hypothesis\")\n",
    "else:\n",
    "    print(\"Fail to reject Null Hypothesis\")"
   ]
  },
  {
   "cell_type": "code",
   "execution_count": 34,
   "metadata": {},
   "outputs": [
    {
     "name": "stdout",
     "output_type": "stream",
     "text": [
      "p_value =  0.006209665325776159\n",
      "Reject Null Hypothesis\n"
     ]
    }
   ],
   "source": [
    "p_value=1.0-norm.cdf(np.abs(z))\n",
    "print(\"p_value = \", p_value)\n",
    "if(p_value < 0.01):\n",
    "    print(\"Reject Null Hypothesis\")\n",
    "else:\n",
    "    print(\"Fail to reject Null Hypothesis\")"
   ]
  }
 ],
 "metadata": {
  "kernelspec": {
   "display_name": "Python 3",
   "language": "python",
   "name": "python3"
  },
  "language_info": {
   "codemirror_mode": {
    "name": "ipython",
    "version": 3
   },
   "file_extension": ".py",
   "mimetype": "text/x-python",
   "name": "python",
   "nbconvert_exporter": "python",
   "pygments_lexer": "ipython3",
   "version": "3.8.5"
  }
 },
 "nbformat": 4,
 "nbformat_minor": 4
}
